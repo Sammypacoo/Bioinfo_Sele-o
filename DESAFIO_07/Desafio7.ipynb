{
  "nbformat": 4,
  "nbformat_minor": 0,
  "metadata": {
    "colab": {
      "provenance": []
    },
    "kernelspec": {
      "name": "python3",
      "display_name": "Python 3"
    },
    "language_info": {
      "name": "python"
    }
  },
  "cells": [
    {
      "cell_type": "code",
      "execution_count": null,
      "metadata": {
        "id": "MUEp7g1e8AoU"
      },
      "outputs": [],
      "source": [
        "%%bash\n",
        "sudo apt install emboss  samtools bwa spades ncbi-blast+ nano"
      ]
    },
    {
      "cell_type": "code",
      "source": [
        "%%bash\n",
        "add-apt-repository -y ppa:git-core/ppa\n",
        "apt-get update\n",
        "apt-get install git nano -y"
      ],
      "metadata": {
        "id": "IY3CSEXb8Dp_"
      },
      "execution_count": null,
      "outputs": []
    },
    {
      "cell_type": "code",
      "source": [
        "%%bash\n",
        "python3 -m pip install colab-xterm\n",
        "python3 -m pip install -I pysam"
      ],
      "metadata": {
        "colab": {
          "base_uri": "https://localhost:8080/"
        },
        "id": "0p-pdaMo8Kwu",
        "outputId": "559332d9-3822-4805-f385-9704e0ac3d19"
      },
      "execution_count": 5,
      "outputs": [
        {
          "output_type": "stream",
          "name": "stdout",
          "text": [
            "Looking in indexes: https://pypi.org/simple, https://us-python.pkg.dev/colab-wheels/public/simple/\n",
            "Collecting colab-xterm\n",
            "  Downloading colab_xterm-0.1.2-py3-none-any.whl (115 kB)\n",
            "     ━━━━━━━━━━━━━━━━━━━━━━━━━━━━━━━━━━━━━━━ 115.3/115.3 KB 3.8 MB/s eta 0:00:00\n",
            "Requirement already satisfied: tornado>5.1 in /usr/local/lib/python3.8/dist-packages (from colab-xterm) (6.0.4)\n",
            "Requirement already satisfied: ptyprocess~=0.7.0 in /usr/local/lib/python3.8/dist-packages (from colab-xterm) (0.7.0)\n",
            "Installing collected packages: colab-xterm\n",
            "Successfully installed colab-xterm-0.1.2\n",
            "Looking in indexes: https://pypi.org/simple, https://us-python.pkg.dev/colab-wheels/public/simple/\n",
            "Collecting pysam\n",
            "  Downloading pysam-0.20.0-cp38-cp38-manylinux_2_24_x86_64.whl (16.1 MB)\n",
            "     ━━━━━━━━━━━━━━━━━━━━━━━━━━━━━━━━━━━━━━━━ 16.1/16.1 MB 66.8 MB/s eta 0:00:00\n",
            "Installing collected packages: pysam\n",
            "Successfully installed pysam-0.20.0\n"
          ]
        }
      ]
    },
    {
      "cell_type": "code",
      "source": [
        "mkdir -p modulo_7_seq_de_novo"
      ],
      "metadata": {
        "id": "1ZAq_z-l8R2r"
      },
      "execution_count": 6,
      "outputs": []
    },
    {
      "cell_type": "code",
      "source": [
        "%%bash\n",
        "wget https://zenodo.org/record/7531504/files/Amostra01_R1_001.fastq.gz\n",
        "wget https://zenodo.org/record/7531504/files/Amostra02_R1_001.fastq.gz\n",
        "wget https://zenodo.org/record/7531504/files/Amostra03_R1_001.fastq.gz\n",
        "wget https://zenodo.org/record/7531504/files/Amostra01_R2_001.fastq.gz\n",
        "wget https://zenodo.org/record/7531504/files/Amostra02_R2_001.fastq.gz\n",
        "wget https://zenodo.org/record/7531504/files/Amostra03_R2_001.fastq.gz\n",
        "\n"
      ],
      "metadata": {
        "id": "QNCnS1gdFzT9"
      },
      "execution_count": null,
      "outputs": []
    },
    {
      "cell_type": "code",
      "source": [],
      "metadata": {
        "id": "A6johO58Rn3j"
      },
      "execution_count": null,
      "outputs": []
    },
    {
      "cell_type": "code",
      "source": [
        "%%bash\n",
        "sudo apt-get install zip\n",
        "gzip -d /content/Amostra01_R1_001.fastq.gz\n",
        "gzip -d /content/Amostra02_R1_001.fastq.gz\n",
        "gzip -d /content/Amostra03_R1_001.fastq.gz\n",
        "gzip -d /content/Amostra01_R2_001.fastq.gz\n",
        "gzip -d /content/Amostra02_R2_001.fastq.gz\n",
        "gzip -d /content/Amostra03_R2_001.fastq.gz\n",
        "\n"
      ],
      "metadata": {
        "colab": {
          "base_uri": "https://localhost:8080/"
        },
        "id": "7taquKhEGwIN",
        "outputId": "2ec35426-915e-4aea-fc02-11f2da7f079b"
      },
      "execution_count": 17,
      "outputs": [
        {
          "output_type": "stream",
          "name": "stdout",
          "text": [
            "Reading package lists...\n",
            "Building dependency tree...\n",
            "Reading state information...\n",
            "zip is already the newest version (3.0-11build1).\n",
            "The following package was automatically installed and is no longer required:\n",
            "  libnvidia-common-460\n",
            "Use 'sudo apt autoremove' to remove it.\n",
            "0 upgraded, 0 newly installed, 0 to remove and 30 not upgraded.\n"
          ]
        }
      ]
    },
    {
      "cell_type": "code",
      "source": [
        "#eu tinha tentado utilizar o spade pada fazer a montagem\n",
        "%%bash\n",
        "spades.py -1 Amostra01_R1_001.fastq.gz -2 Amostra01_R2_001.fastq.gz --careful --cov-cutoff auto -o spades_Amostra1\n",
        "\n"
      ],
      "metadata": {
        "id": "AT1N91hqRHsF"
      },
      "execution_count": null,
      "outputs": []
    },
    {
      "cell_type": "code",
      "source": [
        "# tentei de outra forma\n",
        "%%bash\n",
        "sudo apt install fastqc samtools bwa bcftools #instalacao direta na máquina do fastqc, samtools, bwa, bcftools\n",
        "python3 -m pip install multiqc #instalacao via pip do multiqc\n",
        "python3 -m pip install --user --upgrade cutadapt #instalacao via pip do cutadapt"
      ],
      "metadata": {
        "id": "ObhwyeGBfaT8"
      },
      "execution_count": null,
      "outputs": []
    },
    {
      "cell_type": "code",
      "source": [
        "%%bash\n",
        "wget https://repo.anaconda.com/miniconda/Miniconda3-latest-Linux-x86_64.sh -O miniconda.sh\n",
        "bash miniconda.sh -b -p miniconda3\n",
        "\n",
        "source miniconda3/etc/profile.d/conda.sh\n",
        "conda activate\n",
        "\n",
        "conda create -n vs2 -c conda-forge -c bioconda virsorter=2\n",
        "conda activate vs2"
      ],
      "metadata": {
        "id": "XVuhcRt0fg3j"
      },
      "execution_count": null,
      "outputs": []
    },
    {
      "cell_type": "code",
      "source": [
        "multiqc /content/Amostra* -o /content/drive/multiqc"
      ],
      "metadata": {
        "id": "UUP8DwBffxKI"
      },
      "execution_count": null,
      "outputs": []
    },
    {
      "cell_type": "code",
      "source": [
        "# db viral\n",
        "%%bash\n",
        " wget https://ftp.ncbi.nlm.nih.gov/refseq/release/viral/viral.1.1.genomic.fna.gz\n",
        " wget https://ftp.ncbi.nlm.nih.gov/refseq/release/viral/viral.2.1.genomic.fna.gz\n",
        " wget https://ftp.ncbi.nlm.nih.gov/refseq/release/viral/viral.3.1.genomic.fna.gz\n",
        " wget https://ftp.ncbi.nlm.nih.gov/refseq/release/viral/viral.4.1.genomic.fna.gz"
      ],
      "metadata": {
        "id": "3TqNVVMCRtAV"
      },
      "execution_count": null,
      "outputs": []
    },
    {
      "cell_type": "code",
      "source": [
        "# convert to fasta\n",
        "%%bash\n",
        "sudo apt install seqtk\n",
        "seqtk seq -A /content/Amostra01_R1_001.fastq > /content/Amostra01_R1_001.fasta\n",
        "seqtk seq -A /content/Amostra02_R1_001.fastq > /content/Amostra02_R1_001.fasta\n",
        "seqtk seq -A /content/Amostra03_R1_001.fastq > /content/Amostra03_R1_001.fasta\n",
        "seqtk seq -A /content/Amostra01_R2_001.fastq > /content/Amostra01_R2_001.fasta\n",
        "seqtk seq -A /content/Amostra02_R2_001.fastq > /content/Amostra02_R2_001.fasta\n",
        "seqtk seq -A /content/Amostra03_R2_001.fastq > /content/Amostra03_R2_001.fasta"
      ],
      "metadata": {
        "colab": {
          "base_uri": "https://localhost:8080/"
        },
        "id": "nprwV-95R-jF",
        "outputId": "488feaf1-c81f-44fc-efdd-0721b6ab1f5c"
      },
      "execution_count": 23,
      "outputs": [
        {
          "output_type": "stream",
          "name": "stdout",
          "text": [
            "Reading package lists...\n",
            "Building dependency tree...\n",
            "Reading state information...\n",
            "seqtk is already the newest version (1.2-2).\n",
            "The following package was automatically installed and is no longer required:\n",
            "  libnvidia-common-460\n",
            "Use 'sudo apt autoremove' to remove it.\n",
            "0 upgraded, 0 newly installed, 0 to remove and 30 not upgraded.\n"
          ]
        },
        {
          "output_type": "stream",
          "name": "stderr",
          "text": [
            "\n",
            "WARNING: apt does not have a stable CLI interface. Use with caution in scripts.\n",
            "\n"
          ]
        }
      ]
    },
    {
      "cell_type": "code",
      "source": [
        "%%bash\n",
        "gzip -d /content/viral.1.1.genomic.fna.gz\n",
        "gzip -d /content/viral.2.1.genomic.fna.gz\n",
        "gzip -d /content/viral.3.1.genomic.fna.gz\n",
        "gzip -d /content/viral.4.1.genomic.fna.gz"
      ],
      "metadata": {
        "id": "vf9a6zy7UgEi"
      },
      "execution_count": 24,
      "outputs": []
    },
    {
      "cell_type": "code",
      "source": [
        "%%bash\n",
        "mkdir viral"
      ],
      "metadata": {
        "id": "95ghzYfvUrG2"
      },
      "execution_count": 30,
      "outputs": []
    },
    {
      "cell_type": "code",
      "source": [
        "#configurando db\n",
        "%%bash\n",
        "makeblastdb -in /content/viral.1.1.genomic.fna -out /content/viral/viral1 -dbtype nucl -title \"Virus1\" -parse_seqids\n",
        "makeblastdb -in /content/viral.2.1.genomic.fna -out /content/viral/viral2 -dbtype nucl -title \"Virus1\" -parse_seqids\n",
        "makeblastdb -in /content/viral.3.1.genomic.fna -out /content/viral/viral3 -dbtype nucl -title \"Virus1\" -parse_seqids\n",
        "makeblastdb -in /content/viral.4.1.genomic.fna -out /content/viral/viral4 -dbtype nucl -title \"Virus1\" -parse_seqids"
      ],
      "metadata": {
        "colab": {
          "base_uri": "https://localhost:8080/"
        },
        "id": "BsC92ggVTf3R",
        "outputId": "64d8f570-634b-4d31-93ee-33f89afed93d"
      },
      "execution_count": 31,
      "outputs": [
        {
          "output_type": "stream",
          "name": "stdout",
          "text": [
            "\n",
            "\n",
            "Building a new DB, current time: 01/13/2023 04:14:01\n",
            "New DB name:   /content/viral/viral1\n",
            "New DB title:  Virus1\n",
            "Sequence type: Nucleotide\n",
            "Keep MBits: T\n",
            "Maximum file size: 1000000000B\n",
            "Adding sequences from FASTA; added 10745 sequences in 2.711 seconds.\n",
            "\n",
            "\n",
            "Building a new DB, current time: 01/13/2023 04:14:04\n",
            "New DB name:   /content/viral/viral2\n",
            "New DB title:  Virus1\n",
            "Sequence type: Nucleotide\n",
            "Keep MBits: T\n",
            "Maximum file size: 1000000000B\n",
            "Adding sequences from FASTA; added 691 sequences in 0.295757 seconds.\n",
            "\n",
            "\n",
            "Building a new DB, current time: 01/13/2023 04:14:04\n",
            "New DB name:   /content/viral/viral3\n",
            "New DB title:  Virus1\n",
            "Sequence type: Nucleotide\n",
            "Keep MBits: T\n",
            "Maximum file size: 1000000000B\n",
            "Adding sequences from FASTA; added 2847 sequences in 2.16175 seconds.\n",
            "\n",
            "\n",
            "Building a new DB, current time: 01/13/2023 04:14:06\n",
            "New DB name:   /content/viral/viral4\n",
            "New DB title:  Virus1\n",
            "Sequence type: Nucleotide\n",
            "Keep MBits: T\n",
            "Maximum file size: 1000000000B\n",
            "Adding sequences from FASTA; added 543 sequences in 0.296652 seconds.\n"
          ]
        }
      ]
    },
    {
      "cell_type": "code",
      "source": [
        "%%bash\n",
        "mkdir blast"
      ],
      "metadata": {
        "id": "PN83SYEmV3pj"
      },
      "execution_count": 32,
      "outputs": []
    },
    {
      "cell_type": "code",
      "source": [
        " #blast\n",
        " %%bash\n",
        "blastn -query /content/Amostra01_R1_001.fasta -db /content/viral/viral1 -evalue 1e-3 -dust no  -out /content/blast/output1.txt\n",
        "-evalue 1e-3 -dust no "
      ],
      "metadata": {
        "colab": {
          "base_uri": "https://localhost:8080/",
          "height": 554
        },
        "id": "mbQ8hKjHRExN",
        "outputId": "09664f0c-0537-4223-d634-a074954342a1"
      },
      "execution_count": 36,
      "outputs": [
        {
          "output_type": "stream",
          "name": "stderr",
          "text": [
            "IOPub data rate exceeded.\n",
            "The notebook server will temporarily stop sending output\n",
            "to the client in order to avoid crashing it.\n",
            "To change this limit, set the config variable\n",
            "`--NotebookApp.iopub_data_rate_limit`.\n",
            "\n",
            "Current values:\n",
            "NotebookApp.iopub_data_rate_limit=1000000.0 (bytes/sec)\n",
            "NotebookApp.rate_limit_window=3.0 (secs)\n",
            "\n"
          ]
        },
        {
          "output_type": "error",
          "ename": "CalledProcessError",
          "evalue": "ignored",
          "traceback": [
            "\u001b[0;31m---------------------------------------------------------------------------\u001b[0m",
            "\u001b[0;31mCalledProcessError\u001b[0m                        Traceback (most recent call last)",
            "\u001b[0;32m<ipython-input-36-b450f072b1d3>\u001b[0m in \u001b[0;36m<module>\u001b[0;34m\u001b[0m\n\u001b[0;32m----> 1\u001b[0;31m \u001b[0mget_ipython\u001b[0m\u001b[0;34m(\u001b[0m\u001b[0;34m)\u001b[0m\u001b[0;34m.\u001b[0m\u001b[0mrun_cell_magic\u001b[0m\u001b[0;34m(\u001b[0m\u001b[0;34m'bash'\u001b[0m\u001b[0;34m,\u001b[0m \u001b[0;34m''\u001b[0m\u001b[0;34m,\u001b[0m \u001b[0;34m'blastn -query /content/Amostra01_R1_001.fasta -db /content/viral/viral1 -evalue 1e-3 -dust no  -out /content/blast/output1.txt\\n-evalue 1e-3 -dust no \\n'\u001b[0m\u001b[0;34m)\u001b[0m\u001b[0;34m\u001b[0m\u001b[0;34m\u001b[0m\u001b[0m\n\u001b[0m",
            "\u001b[0;32m/usr/local/lib/python3.8/dist-packages/IPython/core/interactiveshell.py\u001b[0m in \u001b[0;36mrun_cell_magic\u001b[0;34m(self, magic_name, line, cell)\u001b[0m\n\u001b[1;32m   2357\u001b[0m             \u001b[0;32mwith\u001b[0m \u001b[0mself\u001b[0m\u001b[0;34m.\u001b[0m\u001b[0mbuiltin_trap\u001b[0m\u001b[0;34m:\u001b[0m\u001b[0;34m\u001b[0m\u001b[0;34m\u001b[0m\u001b[0m\n\u001b[1;32m   2358\u001b[0m                 \u001b[0margs\u001b[0m \u001b[0;34m=\u001b[0m \u001b[0;34m(\u001b[0m\u001b[0mmagic_arg_s\u001b[0m\u001b[0;34m,\u001b[0m \u001b[0mcell\u001b[0m\u001b[0;34m)\u001b[0m\u001b[0;34m\u001b[0m\u001b[0;34m\u001b[0m\u001b[0m\n\u001b[0;32m-> 2359\u001b[0;31m                 \u001b[0mresult\u001b[0m \u001b[0;34m=\u001b[0m \u001b[0mfn\u001b[0m\u001b[0;34m(\u001b[0m\u001b[0;34m*\u001b[0m\u001b[0margs\u001b[0m\u001b[0;34m,\u001b[0m \u001b[0;34m**\u001b[0m\u001b[0mkwargs\u001b[0m\u001b[0;34m)\u001b[0m\u001b[0;34m\u001b[0m\u001b[0;34m\u001b[0m\u001b[0m\n\u001b[0m\u001b[1;32m   2360\u001b[0m             \u001b[0;32mreturn\u001b[0m \u001b[0mresult\u001b[0m\u001b[0;34m\u001b[0m\u001b[0;34m\u001b[0m\u001b[0m\n\u001b[1;32m   2361\u001b[0m \u001b[0;34m\u001b[0m\u001b[0m\n",
            "\u001b[0;32m/usr/local/lib/python3.8/dist-packages/IPython/core/magics/script.py\u001b[0m in \u001b[0;36mnamed_script_magic\u001b[0;34m(line, cell)\u001b[0m\n\u001b[1;32m    140\u001b[0m             \u001b[0;32melse\u001b[0m\u001b[0;34m:\u001b[0m\u001b[0;34m\u001b[0m\u001b[0;34m\u001b[0m\u001b[0m\n\u001b[1;32m    141\u001b[0m                 \u001b[0mline\u001b[0m \u001b[0;34m=\u001b[0m \u001b[0mscript\u001b[0m\u001b[0;34m\u001b[0m\u001b[0;34m\u001b[0m\u001b[0m\n\u001b[0;32m--> 142\u001b[0;31m             \u001b[0;32mreturn\u001b[0m \u001b[0mself\u001b[0m\u001b[0;34m.\u001b[0m\u001b[0mshebang\u001b[0m\u001b[0;34m(\u001b[0m\u001b[0mline\u001b[0m\u001b[0;34m,\u001b[0m \u001b[0mcell\u001b[0m\u001b[0;34m)\u001b[0m\u001b[0;34m\u001b[0m\u001b[0;34m\u001b[0m\u001b[0m\n\u001b[0m\u001b[1;32m    143\u001b[0m \u001b[0;34m\u001b[0m\u001b[0m\n\u001b[1;32m    144\u001b[0m         \u001b[0;31m# write a basic docstring:\u001b[0m\u001b[0;34m\u001b[0m\u001b[0;34m\u001b[0m\u001b[0;34m\u001b[0m\u001b[0m\n",
            "\u001b[0;32m<decorator-gen-103>\u001b[0m in \u001b[0;36mshebang\u001b[0;34m(self, line, cell)\u001b[0m\n",
            "\u001b[0;32m/usr/local/lib/python3.8/dist-packages/IPython/core/magic.py\u001b[0m in \u001b[0;36m<lambda>\u001b[0;34m(f, *a, **k)\u001b[0m\n\u001b[1;32m    185\u001b[0m     \u001b[0;31m# but it's overkill for just that one bit of state.\u001b[0m\u001b[0;34m\u001b[0m\u001b[0;34m\u001b[0m\u001b[0;34m\u001b[0m\u001b[0m\n\u001b[1;32m    186\u001b[0m     \u001b[0;32mdef\u001b[0m \u001b[0mmagic_deco\u001b[0m\u001b[0;34m(\u001b[0m\u001b[0marg\u001b[0m\u001b[0;34m)\u001b[0m\u001b[0;34m:\u001b[0m\u001b[0;34m\u001b[0m\u001b[0;34m\u001b[0m\u001b[0m\n\u001b[0;32m--> 187\u001b[0;31m         \u001b[0mcall\u001b[0m \u001b[0;34m=\u001b[0m \u001b[0;32mlambda\u001b[0m \u001b[0mf\u001b[0m\u001b[0;34m,\u001b[0m \u001b[0;34m*\u001b[0m\u001b[0ma\u001b[0m\u001b[0;34m,\u001b[0m \u001b[0;34m**\u001b[0m\u001b[0mk\u001b[0m\u001b[0;34m:\u001b[0m \u001b[0mf\u001b[0m\u001b[0;34m(\u001b[0m\u001b[0;34m*\u001b[0m\u001b[0ma\u001b[0m\u001b[0;34m,\u001b[0m \u001b[0;34m**\u001b[0m\u001b[0mk\u001b[0m\u001b[0;34m)\u001b[0m\u001b[0;34m\u001b[0m\u001b[0;34m\u001b[0m\u001b[0m\n\u001b[0m\u001b[1;32m    188\u001b[0m \u001b[0;34m\u001b[0m\u001b[0m\n\u001b[1;32m    189\u001b[0m         \u001b[0;32mif\u001b[0m \u001b[0mcallable\u001b[0m\u001b[0;34m(\u001b[0m\u001b[0marg\u001b[0m\u001b[0;34m)\u001b[0m\u001b[0;34m:\u001b[0m\u001b[0;34m\u001b[0m\u001b[0;34m\u001b[0m\u001b[0m\n",
            "\u001b[0;32m/usr/local/lib/python3.8/dist-packages/IPython/core/magics/script.py\u001b[0m in \u001b[0;36mshebang\u001b[0;34m(self, line, cell)\u001b[0m\n\u001b[1;32m    243\u001b[0m             \u001b[0msys\u001b[0m\u001b[0;34m.\u001b[0m\u001b[0mstderr\u001b[0m\u001b[0;34m.\u001b[0m\u001b[0mflush\u001b[0m\u001b[0;34m(\u001b[0m\u001b[0;34m)\u001b[0m\u001b[0;34m\u001b[0m\u001b[0;34m\u001b[0m\u001b[0m\n\u001b[1;32m    244\u001b[0m         \u001b[0;32mif\u001b[0m \u001b[0margs\u001b[0m\u001b[0;34m.\u001b[0m\u001b[0mraise_error\u001b[0m \u001b[0;32mand\u001b[0m \u001b[0mp\u001b[0m\u001b[0;34m.\u001b[0m\u001b[0mreturncode\u001b[0m\u001b[0;34m!=\u001b[0m\u001b[0;36m0\u001b[0m\u001b[0;34m:\u001b[0m\u001b[0;34m\u001b[0m\u001b[0;34m\u001b[0m\u001b[0m\n\u001b[0;32m--> 245\u001b[0;31m             \u001b[0;32mraise\u001b[0m \u001b[0mCalledProcessError\u001b[0m\u001b[0;34m(\u001b[0m\u001b[0mp\u001b[0m\u001b[0;34m.\u001b[0m\u001b[0mreturncode\u001b[0m\u001b[0;34m,\u001b[0m \u001b[0mcell\u001b[0m\u001b[0;34m,\u001b[0m \u001b[0moutput\u001b[0m\u001b[0;34m=\u001b[0m\u001b[0mout\u001b[0m\u001b[0;34m,\u001b[0m \u001b[0mstderr\u001b[0m\u001b[0;34m=\u001b[0m\u001b[0merr\u001b[0m\u001b[0;34m)\u001b[0m\u001b[0;34m\u001b[0m\u001b[0;34m\u001b[0m\u001b[0m\n\u001b[0m\u001b[1;32m    246\u001b[0m \u001b[0;34m\u001b[0m\u001b[0m\n\u001b[1;32m    247\u001b[0m     \u001b[0;32mdef\u001b[0m \u001b[0m_run_script\u001b[0m\u001b[0;34m(\u001b[0m\u001b[0mself\u001b[0m\u001b[0;34m,\u001b[0m \u001b[0mp\u001b[0m\u001b[0;34m,\u001b[0m \u001b[0mcell\u001b[0m\u001b[0;34m,\u001b[0m \u001b[0mto_close\u001b[0m\u001b[0;34m)\u001b[0m\u001b[0;34m:\u001b[0m\u001b[0;34m\u001b[0m\u001b[0;34m\u001b[0m\u001b[0m\n",
            "\u001b[0;31mCalledProcessError\u001b[0m: Command 'b'blastn -query /content/Amostra01_R1_001.fasta -db /content/viral/viral1 -evalue 1e-3 -dust no  -out /content/blast/output1.txt\\n-evalue 1e-3 -dust no \\n'' returned non-zero exit status 127."
          ]
        }
      ]
    },
    {
      "cell_type": "code",
      "source": [
        "cat /content/blast/output1.txt"
      ],
      "metadata": {
        "id": "L-0qxdV3WSJD"
      },
      "execution_count": null,
      "outputs": []
    },
    {
      "cell_type": "code",
      "source": [
        "Amostra_01. Qual vírus conseguiu identificar? Qual o seu genótipo? Descreva\n",
        "brevemente as etapas do pipeline utilizado.\n",
        "Amostra_02. Qual vírus conseguiu identificar? Qual o seu genótipo? Descreva\n",
        "brevemente as etapas do pipeline utilizado.\n",
        "Amostra_03. Qual vírus conseguiu identificar? Qual o seu genótipo? Descreva\n",
        "brevemente as etapas do pipeline utilizado."
      ],
      "metadata": {
        "id": "cpgyYQuuWVVM"
      },
      "execution_count": null,
      "outputs": []
    }
  ]
}